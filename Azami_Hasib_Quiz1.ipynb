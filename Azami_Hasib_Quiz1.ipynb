{
 "cells": [
  {
   "cell_type": "markdown",
   "metadata": {},
   "source": [
    "# Question 1\n",
    "Create two new dictionaries, prices and stock.  Fill up the prices dict with the prices of items and the other contains the number of items in the stock. The following shows both prices and stock dictionary values"
   ]
  },
  {
   "cell_type": "raw",
   "metadata": {},
   "source": [
    "# here are the items and prices\n",
    "\"banana\": 4,\n",
    "\"apple\": 2,\n",
    "\"orange\": -1.5,\n",
    "\"pear\": 3"
   ]
  },
  {
   "cell_type": "code",
   "execution_count": 1,
   "metadata": {},
   "outputs": [
    {
     "data": {
      "text/plain": [
       "{'banana': 4, 'apple': 2, 'orange': -1.5, 'pear': 3}"
      ]
     },
     "execution_count": 1,
     "metadata": {},
     "output_type": "execute_result"
    }
   ],
   "source": [
    "prices = {'banana': 4, 'apple': 2, 'orange': -1.5, 'pear':3}\n",
    "prices"
   ]
  },
  {
   "cell_type": "raw",
   "metadata": {},
   "source": [
    "# here are the items and how many of it in the stock\n",
    "\"banana\": 6,\n",
    "\"apple\": 0,\n",
    "\"orange\": 32,\n",
    "\"pear\": -15"
   ]
  },
  {
   "cell_type": "code",
   "execution_count": 2,
   "metadata": {},
   "outputs": [
    {
     "data": {
      "text/plain": [
       "{'banana': 6, 'apple': 0, 'orange': 32, 'pear': -15}"
      ]
     },
     "execution_count": 2,
     "metadata": {},
     "output_type": "execute_result"
    }
   ],
   "source": [
    "stock = {'banana': 6, 'apple': 0, 'orange': 32, 'pear': -15}\n",
    "stock"
   ]
  },
  {
   "cell_type": "markdown",
   "metadata": {},
   "source": [
    "a) It looks like this dictionary is subjected to some human entry errors as some quantities and prices are negative. Your code needs to fix it by converting the negative values to positive. Note that your solution needs to work on any other dictionary that has a similar format. i.e., you can not hard code your fixes\n",
    "\n",
    "After that, For each item in the dictornary display the item, number of items in the stock, and item price. An example for the given dictionary will be\n",
    "<br>\n",
    "**we have 6 of banana priced at 4** \\\n",
    "**we have 0 of apple priced at 2**\n",
    "<br>\n",
    "and so on for each item\n",
    "\n"
   ]
  },
  {
   "cell_type": "markdown",
   "metadata": {},
   "source": [
    "b) Determine how much money you would make if you sold all of your food stock"
   ]
  },
  {
   "cell_type": "code",
   "execution_count": 31,
   "metadata": {},
   "outputs": [
    {
     "name": "stdout",
     "output_type": "stream",
     "text": [
      "banana\n",
      "for price, we have: 4\n",
      "for stock, we have: 6\n",
      "apple\n",
      "for price, we have: 2\n",
      "for stock, we have: 0\n",
      "orange\n",
      "for price, we have: 1.5\n",
      "for stock, we have: 32\n",
      "pear\n",
      "for price, we have: 3\n",
      "for stock, we have: 15\n",
      "117.0\n",
      "The amount of money you would make if sold all of your food stock would be 117.0\n"
     ]
    }
   ],
   "source": [
    "# solve here\n",
    "# hint to loop over a dictionary keys you can use\n",
    "# for food in prices\n",
    "\n",
    "#Working with prices\n",
    "#convert negative value to positive\n",
    "positive_p = prices['orange']\n",
    "positive_p\n",
    "#create new variable so we can add it into original set\n",
    "positive_p_new = abs(positive_p)\n",
    "#we add our new variable into the original set replacing the negative\n",
    "prices['orange'] = positive_p_new\n",
    "prices\n",
    "\n",
    "#working with stocks\n",
    "#convert negative value to positive\n",
    "positive_s = stock['pear']\n",
    "positive_s\n",
    "#create new variable so we can add it into original set\n",
    "positive_s_new = abs(positive_s)\n",
    "positive_s_new\n",
    "#we add our new variable into the original set replacing the negative\n",
    "stock['pear'] = positive_s_new\n",
    "stock\n",
    "\n",
    "#we want to display the number of items, item in the stock and also item price by using\n",
    "#for loop\n",
    "for k in prices:\n",
    "    print(k)\n",
    "    print(\"for price, we have: %s\" % prices[k])\n",
    "    print(\"for stock, we have: %s\" % stock[k])\n",
    "#also set food_s=0 then use for loop to get each keys from prices set and multiply to \n",
    "#number the items in stock then add back to food_s to get the total\n",
    "food_s = 0\n",
    "for k in prices:\n",
    "    food_s = food_s + prices[k] * stock[k]\n",
    "print(food_s)\n",
    "print('The amount of money you would make if sold all of your food stock would be', food_s)"
   ]
  },
  {
   "cell_type": "markdown",
   "metadata": {},
   "source": [
    "# Question 2\n",
    "Use python to find out the solution for the quadratic equation 2x^2-12x-9=0"
   ]
  },
  {
   "cell_type": "code",
   "execution_count": 4,
   "metadata": {},
   "outputs": [
    {
     "name": "stdout",
     "output_type": "stream",
     "text": [
      "(-0.6742346141747673+0j)\n",
      "(6.674234614174767+0j)\n",
      "the solution to this quadratic equation is (-0.6742346141747673+0j) (6.674234614174767+0j)\n"
     ]
    }
   ],
   "source": [
    "# solve here\n",
    "#first we must import the library cmath\n",
    "import cmath\n",
    "\n",
    "#these are our known coefficients a,b,c\n",
    "a=2\n",
    "b=-12\n",
    "c=-9\n",
    "\n",
    "#calculate the discriminant\n",
    "d = (b**2) - (4*a*c)\n",
    "\n",
    "#we solve using the quadratic formula\n",
    "sol1 = (-b-cmath.sqrt(d))/(2*a)\n",
    "sol2 = (-b+cmath.sqrt(d))/(2*a)\n",
    "\n",
    "#print solution\n",
    "print(sol1)\n",
    "print(sol2)\n",
    "print('the solution to this quadratic equation is', sol1,sol2)\n"
   ]
  },
  {
   "cell_type": "code",
   "execution_count": null,
   "metadata": {},
   "outputs": [],
   "source": []
  }
 ],
 "metadata": {
  "kernelspec": {
   "display_name": "Python 3",
   "language": "python",
   "name": "python3"
  },
  "language_info": {
   "codemirror_mode": {
    "name": "ipython",
    "version": 3
   },
   "file_extension": ".py",
   "mimetype": "text/x-python",
   "name": "python",
   "nbconvert_exporter": "python",
   "pygments_lexer": "ipython3",
   "version": "3.8.3"
  }
 },
 "nbformat": 4,
 "nbformat_minor": 4
}
